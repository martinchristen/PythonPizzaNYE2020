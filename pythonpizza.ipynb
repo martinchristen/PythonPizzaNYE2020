{
 "cells": [
  {
   "cell_type": "markdown",
   "metadata": {},
   "source": [
    "# Python Pizza - New Year's Party\n",
    "\n",
    "# PyRT 2021 - Computer Graphics with Python\n",
    "\n",
    "https://hamburg.python.pizza/\n",
    "\n",
    "<img src=\"https://pbs.twimg.com/profile_images/1025003214029119489/juMkCCZm_400x400.jpg\" width=\"12.5%\"></img>\n",
    "\n",
    "\n",
    "This notebook can be downloaded here: https://github.com/martinchristen/PythonPizzaNYE2020 \n",
    "\n",
    "## About Me\n",
    "\n",
    "Martin Christen, martin.christen@fhnw.ch<br/>\n",
    "Professor of Geoinformatics and Computer Graphics\n",
    "\n",
    "Twitter @MartinChristen\n",
    "\n",
    "\n",
    "## What is PyRT ?\n",
    "\n",
    "https://github.com/martinchristen/pyRT\n",
    "\n",
    "\n",
    "* PyRT - The Python Raytracer.\n",
    "* I originally developed pyRT for **teaching computer graphics**.\n",
    "* One part of pyrt is the **virtual framebuffer** where you can draw Pixels using standard algorithms such as Bresenham's line drawing algorithm [1]\n",
    "* From Version 0.5.0 an additional goal is better Jupyter integration, this is now done in RGBImage.\n",
    "* **server side rendering** without depending on a graphics card.\n",
    "\n",
    "\n",
    "[1]  J. E. Bresenham, 1965. Algorithm for computer control of a digital plotter. In: IBM Systems Journal, 4, 1, 25–30, ISSN 0018-8670<br/>\n",
    "\n",
    "## Requirements\n",
    "\n",
    "* This notebook requires the following modules: pyrt, pillow, numpy, and moviepy\n",
    "* This notebook currently only runs on **Chrome Browser**. Yes, other browsers will be supported in 2021.\n",
    "\n",
    "\n",
    "`pip install pyrt` <br/>\n",
    "`pip install moviepy`<br/>\n",
    "`conda install pillow numpy`\n"
   ]
  },
  {
   "cell_type": "markdown",
   "metadata": {},
   "source": [
    "### Virtual Framebuffer for Pixel Operations\n"
   ]
  },
  {
   "cell_type": "code",
   "execution_count": null,
   "metadata": {},
   "outputs": [],
   "source": [
    "from pyrt.renderer import RGBImage\n",
    "from pyrt.math import Vec2, Vec3\n",
    "import random"
   ]
  },
  {
   "cell_type": "markdown",
   "metadata": {},
   "source": [
    "#### Animated Virtual Framebuffer in Jupyter\n"
   ]
  },
  {
   "cell_type": "code",
   "execution_count": null,
   "metadata": {},
   "outputs": [],
   "source": [
    "w = 320\n",
    "h = 240\n",
    "image = RGBImage(w, h)\n",
    "image.clear(Vec3(0.0,0.0,0.4))"
   ]
  },
  {
   "cell_type": "code",
   "execution_count": null,
   "metadata": {},
   "outputs": [],
   "source": [
    "for i in range(5000):\n",
    "    position = Vec2(random.randint(0, w - 1), random.randint(0, h - 1))\n",
    "    color = Vec3(random.uniform(0, 1), random.uniform(0, 1), random.uniform(0, 1))\n",
    "   \n",
    "    image.drawPoint(position, color, 1)"
   ]
  },
  {
   "cell_type": "code",
   "execution_count": null,
   "metadata": {},
   "outputs": [],
   "source": [
    "image.framebuffer()"
   ]
  },
  {
   "cell_type": "code",
   "execution_count": null,
   "metadata": {},
   "outputs": [],
   "source": [
    "for i in range(100):\n",
    "    pos1 = Vec2(random.randint(0, w - 1), random.randint(0, h - 1))\n",
    "    pos2 = Vec2(random.randint(0, w - 1), random.randint(0, h - 1))\n",
    "    color = Vec3(random.uniform(0, 1), random.uniform(0, 1), random.uniform(0, 1))\n",
    "   \n",
    "    image.drawLine(pos1, pos2, color, 2)\n",
    "    image.update(fps=30)"
   ]
  },
  {
   "cell_type": "code",
   "execution_count": null,
   "metadata": {},
   "outputs": [],
   "source": [
    "type(image.data)"
   ]
  },
  {
   "cell_type": "code",
   "execution_count": null,
   "metadata": {},
   "outputs": [],
   "source": [
    "print(image.data) # and yes, we could manipulate data directly here (or display with matplotlib)"
   ]
  },
  {
   "cell_type": "markdown",
   "metadata": {},
   "source": [
    "#### Create a Movie\n",
    "\n",
    "For more details check the moviepy docs: https://zulko.github.io/moviepy/ref/VideoClip/VideoClip.html"
   ]
  },
  {
   "cell_type": "code",
   "execution_count": null,
   "metadata": {},
   "outputs": [],
   "source": [
    "import moviepy.editor as mpy\n",
    "\n",
    "from IPython.display import Video\n",
    "from IPython.display import Image"
   ]
  },
  {
   "cell_type": "code",
   "execution_count": null,
   "metadata": {},
   "outputs": [],
   "source": [
    "w = 320\n",
    "h = 240\n",
    "image = RGBImage(w, h)"
   ]
  },
  {
   "cell_type": "code",
   "execution_count": null,
   "metadata": {},
   "outputs": [],
   "source": [
    "def make_frame(t):\n",
    "    image.drawCircleFilled(Vec2(127,127), int(t*8), Vec3(0,0,0), Vec3(1,0,0), 1)\n",
    "    return image.data"
   ]
  },
  {
   "cell_type": "code",
   "execution_count": null,
   "metadata": {},
   "outputs": [],
   "source": [
    "image.clear(Vec3(0.0,0.0,0.4))\n",
    "clip = mpy.VideoClip(make_frame, duration=5)"
   ]
  },
  {
   "cell_type": "code",
   "execution_count": null,
   "metadata": {},
   "outputs": [],
   "source": [
    "clip.write_videofile(\"movie.mp4\", fps=30)"
   ]
  },
  {
   "cell_type": "code",
   "execution_count": null,
   "metadata": {},
   "outputs": [],
   "source": [
    "Video(\"movie.mp4\")"
   ]
  },
  {
   "cell_type": "code",
   "execution_count": null,
   "metadata": {},
   "outputs": [],
   "source": [
    "image.clear(Vec3(0.0,0.0,0.4))\n",
    "clip.write_gif(\"movie.gif\",fps=30, opt=\"OptimizePlus\", fuzz=10)"
   ]
  },
  {
   "cell_type": "code",
   "execution_count": null,
   "metadata": {},
   "outputs": [],
   "source": [
    "Image(\"movie.gif\")"
   ]
  },
  {
   "cell_type": "code",
   "execution_count": null,
   "metadata": {},
   "outputs": [],
   "source": []
  },
  {
   "cell_type": "markdown",
   "metadata": {},
   "source": [
    "#### Loading Images"
   ]
  },
  {
   "cell_type": "code",
   "execution_count": null,
   "metadata": {},
   "outputs": [],
   "source": [
    "from pyrt.renderer import loadimage\n",
    "\n",
    "image2 = loadimage(\"data/worldmap/world600.jpg\")\n",
    "image2.framebuffer(\"world\")"
   ]
  },
  {
   "cell_type": "code",
   "execution_count": null,
   "metadata": {},
   "outputs": [],
   "source": [
    "image2.drawCircleFilled(Vec2(300,150), radius=10, color=Vec3(1,0,0), fillcolor=Vec3(1,1,0), size=1)\n",
    "image2.update(\"world\")"
   ]
  },
  {
   "cell_type": "code",
   "execution_count": null,
   "metadata": {},
   "outputs": [],
   "source": [
    "image2.drawCircleFilled(Vec2(100,50), radius=30, color=Vec3(0,0,0), fillcolor=Vec3(0,1,0), size=3)\n",
    "image2.update(\"world\")"
   ]
  },
  {
   "cell_type": "markdown",
   "metadata": {},
   "source": [
    "# Animated Stars"
   ]
  },
  {
   "cell_type": "code",
   "execution_count": null,
   "metadata": {},
   "outputs": [],
   "source": [
    "from pyrt.renderer import RGBImage\n",
    "from pyrt.math import Vec2, Vec3\n",
    "import random\n",
    "\n",
    "w = 600\n",
    "h = 400\n",
    "image = RGBImage(w, h)\n",
    "image.clear(Vec3(0.0,0.0,0.0))\n",
    "image.framebuffer('stars')"
   ]
  },
  {
   "cell_type": "markdown",
   "metadata": {},
   "source": [
    "**Create new View for this output**: right click on blue bar and select \"Create New View for Output\" and move it to top right (Jupyter Lab only)"
   ]
  },
  {
   "cell_type": "code",
   "execution_count": null,
   "metadata": {},
   "outputs": [],
   "source": [
    "class Star:\n",
    "    def __init__(self, pos,size,color):\n",
    "        self.pos = pos # Vec2\n",
    "        self.size = size # int\n",
    "        self.color = color # Vec3"
   ]
  },
  {
   "cell_type": "code",
   "execution_count": null,
   "metadata": {},
   "outputs": [],
   "source": [
    "# Create a list of 2000 stars:\n",
    "\n",
    "stars = []\n",
    "for i in range(0,2000):\n",
    "    position = Vec2(random.randint(0, w-1), random.randint(0, h-1))\n",
    "    s = random.randint(1,4)\n",
    "    color = Vec3(s/4,s/4,s/4)\n",
    "    newstar = Star(position,s,color)\n",
    "    stars.append(newstar)"
   ]
  },
  {
   "cell_type": "code",
   "execution_count": null,
   "metadata": {},
   "outputs": [],
   "source": [
    "def render_stars(stars):\n",
    "    for star in stars:\n",
    "        image.drawPoint(star.pos, star.color, star.size)\n",
    "    image.update('stars', fps=30)"
   ]
  },
  {
   "cell_type": "code",
   "execution_count": null,
   "metadata": {},
   "outputs": [],
   "source": [
    "render_stars(stars)"
   ]
  },
  {
   "cell_type": "code",
   "execution_count": null,
   "metadata": {},
   "outputs": [],
   "source": [
    "def update_stars(stars):\n",
    "    for star in stars:\n",
    "        # increase position\n",
    "        star.pos.x = star.pos.x + star.size*2\n",
    "        if star.pos.x>=w:\n",
    "            star.pos.x=0\n",
    "            \n",
    "    image.clear(Vec3(0.0,0.0,0.0))\n",
    "    render_stars(stars)"
   ]
  },
  {
   "cell_type": "code",
   "execution_count": null,
   "metadata": {},
   "outputs": [],
   "source": [
    "update_stars(stars)"
   ]
  },
  {
   "cell_type": "code",
   "execution_count": null,
   "metadata": {},
   "outputs": [],
   "source": [
    "for i in range(0,250):\n",
    "    update_stars(stars)"
   ]
  },
  {
   "cell_type": "markdown",
   "metadata": {},
   "source": [
    "### Fireworks - Particle Explosion\n",
    "\n",
    "\n",
    "We're creating two classes:\n",
    "\n",
    "* **Particle**: a single particle with a position, velocity, speed, size, lifetime\n",
    "* **Explosion**: a collection of particles with a velocity along a circle and a random speed, size, color\n",
    "\n",
    "\n",
    "<img src=\"docs/img/circle.png\" width=\"25%\"/>\n"
   ]
  },
  {
   "cell_type": "code",
   "execution_count": null,
   "metadata": {},
   "outputs": [],
   "source": [
    "import math, random\n",
    "\n",
    "image.clear(Vec3(0.0,0.0,0.0))\n",
    "image.update('stars')"
   ]
  },
  {
   "cell_type": "code",
   "execution_count": null,
   "metadata": {},
   "outputs": [],
   "source": [
    "class Particle:\n",
    "    def __init__(self, pos, velocity, color, size, frames=-1):\n",
    "        self.pos = pos # position, Vec2\n",
    "        self.v = velocity # velocity of particle, Vec2\n",
    "        self.color = color # color of particle, Vec3\n",
    "        self.size = size # size of particle, int\n",
    "        self.frames = frames # number of frames before this particle is removed, int"
   ]
  },
  {
   "cell_type": "code",
   "execution_count": null,
   "metadata": {},
   "outputs": [],
   "source": [
    "class Explosion:\n",
    "    def __init__(self, pos, num_particles):\n",
    "        self.particles = []\n",
    "        self.maxframes = 100\n",
    "        \n",
    "        for i in range(0,num_particles):\n",
    "            angle = 2*(0.5-random.random())*math.pi\n",
    "            \n",
    "            \n",
    "            color = Vec3(0.8+random.random()*0.2,0.3*random.random(),0.3*random.random())\n",
    "            s = random.randint(1,4)\n",
    "    \n",
    "            size = random.randint(1,3)\n",
    "            speed = 3 # 3*random.random() # if constant -> circle\n",
    "            p = Particle(pos, Vec2(math.cos(angle)*speed, \n",
    "                                   math.sin(angle)*speed), \n",
    "                                   color, size, self.maxframes)\n",
    "            self.particles.append(p)\n",
    "            \n",
    "    def update(self):\n",
    "        for p in self.particles:\n",
    "            p.pos = Vec2(p.pos.x + p.v.x, p.pos.y + p.v.y)\n",
    "            p.frames -= 1\n",
    "            if p.frames < 0:\n",
    "                p.frames = 0\n",
    "       \n",
    "            \n",
    "    def draw(self):\n",
    "        for p in self.particles:\n",
    "            fade = p.frames / self.maxframes\n",
    "            image.drawPoint(Vec2(int(p.pos.x), \n",
    "                                 int(p.pos.y)), \n",
    "                            fade * p.color, \n",
    "                            p.size)\n",
    "   \n",
    "        \n",
    "        \n",
    "        "
   ]
  },
  {
   "cell_type": "code",
   "execution_count": null,
   "metadata": {},
   "outputs": [],
   "source": [
    "e = Explosion(Vec2(w//2,h//2), 500)\n",
    "\n",
    "image.clear(Vec3(0.0,0.0,0.0))\n",
    "for i in range(0,100):\n",
    "    image.clear(Vec3(0.0,0.0,0.0))  \n",
    "    e.update()\n",
    "    e.draw()\n",
    "    image.update('stars')\n",
    " "
   ]
  },
  {
   "cell_type": "markdown",
   "metadata": {},
   "source": [
    "#### Multiple particle explosions"
   ]
  },
  {
   "cell_type": "code",
   "execution_count": null,
   "metadata": {},
   "outputs": [],
   "source": [
    "e0 = Explosion(Vec2(w//2,h//2), 500)\n",
    "for i in range(0,100):\n",
    "    image.clear(Vec3(0.0,0.0,0.0))\n",
    "    e0.update()\n",
    "    e0.draw()\n",
    "    image.update('stars')\n",
    "    \n",
    "e1 = Explosion(Vec2(w//4,h//3), 800)\n",
    "for i in range(0,100):\n",
    "    image.clear(Vec3(0.0,0.0,0.0))\n",
    "    e1.update()\n",
    "    e1.draw()\n",
    "    image.update('stars')\n",
    "\n",
    "    \n",
    "e2 = Explosion(Vec2(w//2+30,h//3), 800)\n",
    "e3 = Explosion(Vec2(w//4,h//4), 800)\n",
    "for i in range(0,100):\n",
    "    image.clear(Vec3(0.0,0.0,0.0))\n",
    "    e2.update()\n",
    "    e3.update()\n",
    "    e2.draw()\n",
    "    e3.draw()\n",
    "    image.update('stars', fps=30)"
   ]
  },
  {
   "cell_type": "markdown",
   "metadata": {},
   "source": [
    "### And now let's create a Movie"
   ]
  },
  {
   "cell_type": "code",
   "execution_count": null,
   "metadata": {},
   "outputs": [],
   "source": [
    "e0 = Explosion(Vec2(w//2,h//2), 500)\n",
    "e1 = Explosion(Vec2(w//4,h//3), 800)\n",
    "e2 = Explosion(Vec2(w//2+30,h//3), 800)\n",
    "e3 = Explosion(Vec2(w//4,h//4), 800)\n",
    "\n",
    "# 30 fps x 10 seconds = 300 frames, so let's make 10 seconds\n",
    "duration = 10\n",
    "fps = 30\n",
    "\n",
    "def make_frame(s):\n",
    "    # s runs from 0...10 (if clip is 10 seconds)\n",
    "    # calculate frame number:\n",
    "    f = int(s*fps)\n",
    "    \n",
    "    if s < 3:\n",
    "        image.clear(Vec3(0.0,0.0,0.0))\n",
    "        e0.update()\n",
    "        e0.draw()\n",
    "    elif s < 6:\n",
    "        image.clear(Vec3(0.0,0.0,0.0))\n",
    "        e1.update()\n",
    "        e1.draw()\n",
    "    else:\n",
    "        image.clear(Vec3(0.0,0.0,0.0))\n",
    "        e2.update()\n",
    "        e3.update()\n",
    "        e2.draw()\n",
    "        e3.draw()\n",
    "    \n",
    "    return image.data"
   ]
  },
  {
   "cell_type": "code",
   "execution_count": null,
   "metadata": {},
   "outputs": [],
   "source": [
    "clip = mpy.VideoClip(make_frame, duration=duration)"
   ]
  },
  {
   "cell_type": "code",
   "execution_count": null,
   "metadata": {},
   "outputs": [],
   "source": [
    "image.clear(Vec3(0.0,0.0,0.0))"
   ]
  },
  {
   "cell_type": "code",
   "execution_count": null,
   "metadata": {},
   "outputs": [],
   "source": [
    "clip.write_gif(\"firework.gif\",fps=fps, opt=\"OptimizePlus\", fuzz=10)"
   ]
  },
  {
   "cell_type": "code",
   "execution_count": null,
   "metadata": {},
   "outputs": [],
   "source": [
    "Image(\"firework.gif\")"
   ]
  },
  {
   "cell_type": "markdown",
   "metadata": {},
   "source": [
    "## Exercise\n",
    "\n",
    "Now you know the basics about creating animations / movies with PyRT!\n",
    "\n",
    "Create your own firework\n",
    "   * better colors (changing colors?)\n",
    "   * different animation type\n",
    "   * create a gif animation out of it\n",
    "\n"
   ]
  },
  {
   "cell_type": "code",
   "execution_count": null,
   "metadata": {},
   "outputs": [],
   "source": []
  },
  {
   "cell_type": "code",
   "execution_count": null,
   "metadata": {},
   "outputs": [],
   "source": []
  },
  {
   "cell_type": "markdown",
   "metadata": {},
   "source": [
    "<img src=\"https://2021.geopython.net/cfp.gif\" width=\"50%\"/>"
   ]
  },
  {
   "cell_type": "code",
   "execution_count": null,
   "metadata": {},
   "outputs": [],
   "source": []
  }
 ],
 "metadata": {
  "kernelspec": {
   "display_name": "Python 3",
   "language": "python",
   "name": "python3"
  },
  "language_info": {
   "codemirror_mode": {
    "name": "ipython",
    "version": 3
   },
   "file_extension": ".py",
   "mimetype": "text/x-python",
   "name": "python",
   "nbconvert_exporter": "python",
   "pygments_lexer": "ipython3",
   "version": "3.8.3"
  }
 },
 "nbformat": 4,
 "nbformat_minor": 4
}
